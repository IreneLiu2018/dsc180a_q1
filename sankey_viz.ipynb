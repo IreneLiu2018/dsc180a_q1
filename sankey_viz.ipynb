{
 "cells": [
  {
   "cell_type": "code",
   "execution_count": 22,
   "metadata": {},
   "outputs": [],
   "source": [
    "import pandas as pd\n",
    "\n",
    "data = pd.read_csv('Data/time_author_topic.csv', index_col=0)\n"
   ]
  },
  {
   "cell_type": "code",
   "execution_count": 91,
   "metadata": {},
   "outputs": [
    {
     "data": {
      "text/plain": [
       "array(['Yusu Wang', 'Babak Salimi', 'Arya Mazumdar', 'Berk Ustun',\n",
       "       'Gal Mishne', 'Mikhail Belkin', 'Tsu-Wei (Lily) Weng', 'Yian Ma',\n",
       "       'Zhiting Hu', 'Benjamin Smarr', 'Armin Schwartzman',\n",
       "       'R. Stuart Geiger', 'Arun Kumar', 'Barna Saha', 'Jingbo Shang',\n",
       "       'Yoav Freund', 'Alex Cloninger', 'Jelena Bradic', 'Rayan Saab',\n",
       "       'Mikio Aoi', 'David Danks', 'Margaret (Molly) Roberts',\n",
       "       'Bradley Voytek', 'Virginia De Sa', 'Rajesh Gupta',\n",
       "       'Dimitris Politis', 'Ilkay Altintas', 'Robin Knight',\n",
       "       'Shankar Subramaniam', 'Angela Yu', 'Eran Mukamel',\n",
       "       'Shannon Ellis', 'Henrik Christensen', 'Julian McAuley',\n",
       "       'Larry Smarr', 'Rose Yu', 'Vineet Bafna', 'Michael Pazzani',\n",
       "       'Tara Javidi', 'Young-Han Kim', 'Ery, Arias-Castro ',\n",
       "       'Michael Holst', 'Ronghui (Lily) Xu', 'Ruth Williams',\n",
       "       'Terry Sejnowski', 'Frank Wuerthwein', 'Albert Hsiao',\n",
       "       'Lucila Ohno-Machado', 'George Sugihara', 'Justin Eldridge'],\n",
       "      dtype=object)"
      ]
     },
     "execution_count": 91,
     "metadata": {},
     "output_type": "execute_result"
    }
   ],
   "source": [
    "(data['author'].unique())"
   ]
  },
  {
   "cell_type": "code",
   "execution_count": 24,
   "metadata": {},
   "outputs": [
    {
     "data": {
      "text/html": [
       "<div>\n",
       "<style scoped>\n",
       "    .dataframe tbody tr th:only-of-type {\n",
       "        vertical-align: middle;\n",
       "    }\n",
       "\n",
       "    .dataframe tbody tr th {\n",
       "        vertical-align: top;\n",
       "    }\n",
       "\n",
       "    .dataframe thead th {\n",
       "        text-align: right;\n",
       "    }\n",
       "</style>\n",
       "<table border=\"1\" class=\"dataframe\">\n",
       "  <thead>\n",
       "    <tr style=\"text-align: right;\">\n",
       "      <th></th>\n",
       "      <th>Topic0</th>\n",
       "      <th>Topic1</th>\n",
       "      <th>Topic2</th>\n",
       "      <th>Topic3</th>\n",
       "      <th>Topic4</th>\n",
       "      <th>Topic5</th>\n",
       "      <th>Topic6</th>\n",
       "      <th>Topic7</th>\n",
       "      <th>Topic8</th>\n",
       "      <th>Topic9</th>\n",
       "      <th>...</th>\n",
       "      <th>Topic15</th>\n",
       "      <th>Topic16</th>\n",
       "      <th>Topic17</th>\n",
       "      <th>Topic18</th>\n",
       "      <th>Topic19</th>\n",
       "      <th>Topic20</th>\n",
       "      <th>Topic21</th>\n",
       "      <th>Topic22</th>\n",
       "      <th>Topic23</th>\n",
       "      <th>Topic24</th>\n",
       "    </tr>\n",
       "    <tr>\n",
       "      <th>author</th>\n",
       "      <th></th>\n",
       "      <th></th>\n",
       "      <th></th>\n",
       "      <th></th>\n",
       "      <th></th>\n",
       "      <th></th>\n",
       "      <th></th>\n",
       "      <th></th>\n",
       "      <th></th>\n",
       "      <th></th>\n",
       "      <th></th>\n",
       "      <th></th>\n",
       "      <th></th>\n",
       "      <th></th>\n",
       "      <th></th>\n",
       "      <th></th>\n",
       "      <th></th>\n",
       "      <th></th>\n",
       "      <th></th>\n",
       "      <th></th>\n",
       "      <th></th>\n",
       "    </tr>\n",
       "  </thead>\n",
       "  <tbody>\n",
       "    <tr>\n",
       "      <th>Albert Hsiao</th>\n",
       "      <td>0.005779</td>\n",
       "      <td>0.005779</td>\n",
       "      <td>0.005779</td>\n",
       "      <td>0.005779</td>\n",
       "      <td>0.005779</td>\n",
       "      <td>0.005779</td>\n",
       "      <td>0.041447</td>\n",
       "      <td>0.005779</td>\n",
       "      <td>0.005779</td>\n",
       "      <td>0.005779</td>\n",
       "      <td>...</td>\n",
       "      <td>0.005779</td>\n",
       "      <td>0.170190</td>\n",
       "      <td>0.148231</td>\n",
       "      <td>0.005779</td>\n",
       "      <td>0.005779</td>\n",
       "      <td>0.005779</td>\n",
       "      <td>0.005779</td>\n",
       "      <td>0.005779</td>\n",
       "      <td>0.005779</td>\n",
       "      <td>0.005779</td>\n",
       "    </tr>\n",
       "    <tr>\n",
       "      <th>Alex Cloninger</th>\n",
       "      <td>0.011512</td>\n",
       "      <td>0.311332</td>\n",
       "      <td>0.054413</td>\n",
       "      <td>0.011512</td>\n",
       "      <td>0.054794</td>\n",
       "      <td>0.013448</td>\n",
       "      <td>0.081092</td>\n",
       "      <td>0.011512</td>\n",
       "      <td>0.011512</td>\n",
       "      <td>0.064292</td>\n",
       "      <td>...</td>\n",
       "      <td>0.011512</td>\n",
       "      <td>0.011512</td>\n",
       "      <td>0.035556</td>\n",
       "      <td>0.017171</td>\n",
       "      <td>0.122763</td>\n",
       "      <td>0.011512</td>\n",
       "      <td>0.011512</td>\n",
       "      <td>0.011512</td>\n",
       "      <td>0.011512</td>\n",
       "      <td>0.011512</td>\n",
       "    </tr>\n",
       "    <tr>\n",
       "      <th>Angela Yu</th>\n",
       "      <td>0.021594</td>\n",
       "      <td>0.023747</td>\n",
       "      <td>0.016670</td>\n",
       "      <td>0.005835</td>\n",
       "      <td>0.005835</td>\n",
       "      <td>0.150161</td>\n",
       "      <td>0.249703</td>\n",
       "      <td>0.100938</td>\n",
       "      <td>0.005835</td>\n",
       "      <td>0.067444</td>\n",
       "      <td>...</td>\n",
       "      <td>0.005835</td>\n",
       "      <td>0.005835</td>\n",
       "      <td>0.005835</td>\n",
       "      <td>0.005835</td>\n",
       "      <td>0.005835</td>\n",
       "      <td>0.011673</td>\n",
       "      <td>0.005835</td>\n",
       "      <td>0.005835</td>\n",
       "      <td>0.005835</td>\n",
       "      <td>0.071604</td>\n",
       "    </tr>\n",
       "    <tr>\n",
       "      <th>Armin Schwartzman</th>\n",
       "      <td>0.007347</td>\n",
       "      <td>0.097179</td>\n",
       "      <td>0.092952</td>\n",
       "      <td>0.005790</td>\n",
       "      <td>0.015840</td>\n",
       "      <td>0.005790</td>\n",
       "      <td>0.346046</td>\n",
       "      <td>0.018462</td>\n",
       "      <td>0.005790</td>\n",
       "      <td>0.005790</td>\n",
       "      <td>...</td>\n",
       "      <td>0.005790</td>\n",
       "      <td>0.005790</td>\n",
       "      <td>0.242362</td>\n",
       "      <td>0.005790</td>\n",
       "      <td>0.027236</td>\n",
       "      <td>0.005790</td>\n",
       "      <td>0.005790</td>\n",
       "      <td>0.005790</td>\n",
       "      <td>0.005790</td>\n",
       "      <td>0.005790</td>\n",
       "    </tr>\n",
       "    <tr>\n",
       "      <th>Arun Kumar</th>\n",
       "      <td>0.034302</td>\n",
       "      <td>0.034302</td>\n",
       "      <td>0.034302</td>\n",
       "      <td>0.034302</td>\n",
       "      <td>0.034302</td>\n",
       "      <td>0.034302</td>\n",
       "      <td>0.034302</td>\n",
       "      <td>0.034302</td>\n",
       "      <td>0.034302</td>\n",
       "      <td>0.034302</td>\n",
       "      <td>...</td>\n",
       "      <td>0.034302</td>\n",
       "      <td>0.034302</td>\n",
       "      <td>0.034302</td>\n",
       "      <td>0.066923</td>\n",
       "      <td>0.045641</td>\n",
       "      <td>0.034302</td>\n",
       "      <td>0.034302</td>\n",
       "      <td>0.034302</td>\n",
       "      <td>0.050993</td>\n",
       "      <td>0.034302</td>\n",
       "    </tr>\n",
       "  </tbody>\n",
       "</table>\n",
       "<p>5 rows × 25 columns</p>\n",
       "</div>"
      ],
      "text/plain": [
       "                     Topic0    Topic1    Topic2    Topic3    Topic4    Topic5  \\\n",
       "author                                                                          \n",
       "Albert Hsiao       0.005779  0.005779  0.005779  0.005779  0.005779  0.005779   \n",
       "Alex Cloninger     0.011512  0.311332  0.054413  0.011512  0.054794  0.013448   \n",
       "Angela Yu          0.021594  0.023747  0.016670  0.005835  0.005835  0.150161   \n",
       "Armin Schwartzman  0.007347  0.097179  0.092952  0.005790  0.015840  0.005790   \n",
       "Arun Kumar         0.034302  0.034302  0.034302  0.034302  0.034302  0.034302   \n",
       "\n",
       "                     Topic6    Topic7    Topic8    Topic9  ...   Topic15  \\\n",
       "author                                                     ...             \n",
       "Albert Hsiao       0.041447  0.005779  0.005779  0.005779  ...  0.005779   \n",
       "Alex Cloninger     0.081092  0.011512  0.011512  0.064292  ...  0.011512   \n",
       "Angela Yu          0.249703  0.100938  0.005835  0.067444  ...  0.005835   \n",
       "Armin Schwartzman  0.346046  0.018462  0.005790  0.005790  ...  0.005790   \n",
       "Arun Kumar         0.034302  0.034302  0.034302  0.034302  ...  0.034302   \n",
       "\n",
       "                    Topic16   Topic17   Topic18   Topic19   Topic20   Topic21  \\\n",
       "author                                                                          \n",
       "Albert Hsiao       0.170190  0.148231  0.005779  0.005779  0.005779  0.005779   \n",
       "Alex Cloninger     0.011512  0.035556  0.017171  0.122763  0.011512  0.011512   \n",
       "Angela Yu          0.005835  0.005835  0.005835  0.005835  0.011673  0.005835   \n",
       "Armin Schwartzman  0.005790  0.242362  0.005790  0.027236  0.005790  0.005790   \n",
       "Arun Kumar         0.034302  0.034302  0.066923  0.045641  0.034302  0.034302   \n",
       "\n",
       "                    Topic22   Topic23   Topic24  \n",
       "author                                           \n",
       "Albert Hsiao       0.005779  0.005779  0.005779  \n",
       "Alex Cloninger     0.011512  0.011512  0.011512  \n",
       "Angela Yu          0.005835  0.005835  0.071604  \n",
       "Armin Schwartzman  0.005790  0.005790  0.005790  \n",
       "Arun Kumar         0.034302  0.050993  0.034302  \n",
       "\n",
       "[5 rows x 25 columns]"
      ]
     },
     "execution_count": 24,
     "metadata": {},
     "output_type": "execute_result"
    }
   ],
   "source": [
    "# how each author is related to each topic overall\n",
    "\n",
    "averaged = data.groupby('author').mean().drop(['dominant_topic','year'], axis=1)\n",
    "averaged.head()"
   ]
  },
  {
   "cell_type": "code",
   "execution_count": 84,
   "metadata": {},
   "outputs": [
    {
     "data": {
      "text/html": [
       "<div>\n",
       "<style scoped>\n",
       "    .dataframe tbody tr th:only-of-type {\n",
       "        vertical-align: middle;\n",
       "    }\n",
       "\n",
       "    .dataframe tbody tr th {\n",
       "        vertical-align: top;\n",
       "    }\n",
       "\n",
       "    .dataframe thead th {\n",
       "        text-align: right;\n",
       "    }\n",
       "</style>\n",
       "<table border=\"1\" class=\"dataframe\">\n",
       "  <thead>\n",
       "    <tr style=\"text-align: right;\">\n",
       "      <th></th>\n",
       "      <th>Topic0</th>\n",
       "      <th>Topic1</th>\n",
       "      <th>Topic2</th>\n",
       "      <th>Topic3</th>\n",
       "      <th>Topic4</th>\n",
       "      <th>Topic5</th>\n",
       "      <th>Topic6</th>\n",
       "      <th>Topic7</th>\n",
       "      <th>Topic8</th>\n",
       "      <th>Topic9</th>\n",
       "      <th>...</th>\n",
       "      <th>Topic15</th>\n",
       "      <th>Topic16</th>\n",
       "      <th>Topic17</th>\n",
       "      <th>Topic18</th>\n",
       "      <th>Topic19</th>\n",
       "      <th>Topic20</th>\n",
       "      <th>Topic21</th>\n",
       "      <th>Topic22</th>\n",
       "      <th>Topic23</th>\n",
       "      <th>Topic24</th>\n",
       "    </tr>\n",
       "    <tr>\n",
       "      <th>author</th>\n",
       "      <th></th>\n",
       "      <th></th>\n",
       "      <th></th>\n",
       "      <th></th>\n",
       "      <th></th>\n",
       "      <th></th>\n",
       "      <th></th>\n",
       "      <th></th>\n",
       "      <th></th>\n",
       "      <th></th>\n",
       "      <th></th>\n",
       "      <th></th>\n",
       "      <th></th>\n",
       "      <th></th>\n",
       "      <th></th>\n",
       "      <th></th>\n",
       "      <th></th>\n",
       "      <th></th>\n",
       "      <th></th>\n",
       "      <th></th>\n",
       "      <th></th>\n",
       "    </tr>\n",
       "  </thead>\n",
       "  <tbody>\n",
       "    <tr>\n",
       "      <th>Albert Hsiao</th>\n",
       "      <td>0.0</td>\n",
       "      <td>0.000000</td>\n",
       "      <td>0.0</td>\n",
       "      <td>0.0</td>\n",
       "      <td>0.0</td>\n",
       "      <td>0.000000</td>\n",
       "      <td>0.000000</td>\n",
       "      <td>0.000000</td>\n",
       "      <td>0.0</td>\n",
       "      <td>0.0</td>\n",
       "      <td>...</td>\n",
       "      <td>0.0</td>\n",
       "      <td>0.17019</td>\n",
       "      <td>0.148231</td>\n",
       "      <td>0.0</td>\n",
       "      <td>0.000000</td>\n",
       "      <td>0.0</td>\n",
       "      <td>0.0</td>\n",
       "      <td>0.0</td>\n",
       "      <td>0.0</td>\n",
       "      <td>0.0</td>\n",
       "    </tr>\n",
       "    <tr>\n",
       "      <th>Alex Cloninger</th>\n",
       "      <td>0.0</td>\n",
       "      <td>0.311332</td>\n",
       "      <td>0.0</td>\n",
       "      <td>0.0</td>\n",
       "      <td>0.0</td>\n",
       "      <td>0.000000</td>\n",
       "      <td>0.000000</td>\n",
       "      <td>0.000000</td>\n",
       "      <td>0.0</td>\n",
       "      <td>0.0</td>\n",
       "      <td>...</td>\n",
       "      <td>0.0</td>\n",
       "      <td>0.00000</td>\n",
       "      <td>0.000000</td>\n",
       "      <td>0.0</td>\n",
       "      <td>0.122763</td>\n",
       "      <td>0.0</td>\n",
       "      <td>0.0</td>\n",
       "      <td>0.0</td>\n",
       "      <td>0.0</td>\n",
       "      <td>0.0</td>\n",
       "    </tr>\n",
       "    <tr>\n",
       "      <th>Angela Yu</th>\n",
       "      <td>0.0</td>\n",
       "      <td>0.000000</td>\n",
       "      <td>0.0</td>\n",
       "      <td>0.0</td>\n",
       "      <td>0.0</td>\n",
       "      <td>0.150161</td>\n",
       "      <td>0.249703</td>\n",
       "      <td>0.100938</td>\n",
       "      <td>0.0</td>\n",
       "      <td>0.0</td>\n",
       "      <td>...</td>\n",
       "      <td>0.0</td>\n",
       "      <td>0.00000</td>\n",
       "      <td>0.000000</td>\n",
       "      <td>0.0</td>\n",
       "      <td>0.000000</td>\n",
       "      <td>0.0</td>\n",
       "      <td>0.0</td>\n",
       "      <td>0.0</td>\n",
       "      <td>0.0</td>\n",
       "      <td>0.0</td>\n",
       "    </tr>\n",
       "    <tr>\n",
       "      <th>Armin Schwartzman</th>\n",
       "      <td>0.0</td>\n",
       "      <td>0.000000</td>\n",
       "      <td>0.0</td>\n",
       "      <td>0.0</td>\n",
       "      <td>0.0</td>\n",
       "      <td>0.000000</td>\n",
       "      <td>0.346046</td>\n",
       "      <td>0.000000</td>\n",
       "      <td>0.0</td>\n",
       "      <td>0.0</td>\n",
       "      <td>...</td>\n",
       "      <td>0.0</td>\n",
       "      <td>0.00000</td>\n",
       "      <td>0.242362</td>\n",
       "      <td>0.0</td>\n",
       "      <td>0.000000</td>\n",
       "      <td>0.0</td>\n",
       "      <td>0.0</td>\n",
       "      <td>0.0</td>\n",
       "      <td>0.0</td>\n",
       "      <td>0.0</td>\n",
       "    </tr>\n",
       "    <tr>\n",
       "      <th>Arun Kumar</th>\n",
       "      <td>0.0</td>\n",
       "      <td>0.000000</td>\n",
       "      <td>0.0</td>\n",
       "      <td>0.0</td>\n",
       "      <td>0.0</td>\n",
       "      <td>0.000000</td>\n",
       "      <td>0.000000</td>\n",
       "      <td>0.000000</td>\n",
       "      <td>0.0</td>\n",
       "      <td>0.0</td>\n",
       "      <td>...</td>\n",
       "      <td>0.0</td>\n",
       "      <td>0.00000</td>\n",
       "      <td>0.000000</td>\n",
       "      <td>0.0</td>\n",
       "      <td>0.000000</td>\n",
       "      <td>0.0</td>\n",
       "      <td>0.0</td>\n",
       "      <td>0.0</td>\n",
       "      <td>0.0</td>\n",
       "      <td>0.0</td>\n",
       "    </tr>\n",
       "  </tbody>\n",
       "</table>\n",
       "<p>5 rows × 25 columns</p>\n",
       "</div>"
      ],
      "text/plain": [
       "                   Topic0    Topic1  Topic2  Topic3  Topic4    Topic5  \\\n",
       "author                                                                  \n",
       "Albert Hsiao          0.0  0.000000     0.0     0.0     0.0  0.000000   \n",
       "Alex Cloninger        0.0  0.311332     0.0     0.0     0.0  0.000000   \n",
       "Angela Yu             0.0  0.000000     0.0     0.0     0.0  0.150161   \n",
       "Armin Schwartzman     0.0  0.000000     0.0     0.0     0.0  0.000000   \n",
       "Arun Kumar            0.0  0.000000     0.0     0.0     0.0  0.000000   \n",
       "\n",
       "                     Topic6    Topic7  Topic8  Topic9  ...  Topic15  Topic16  \\\n",
       "author                                                 ...                     \n",
       "Albert Hsiao       0.000000  0.000000     0.0     0.0  ...      0.0  0.17019   \n",
       "Alex Cloninger     0.000000  0.000000     0.0     0.0  ...      0.0  0.00000   \n",
       "Angela Yu          0.249703  0.100938     0.0     0.0  ...      0.0  0.00000   \n",
       "Armin Schwartzman  0.346046  0.000000     0.0     0.0  ...      0.0  0.00000   \n",
       "Arun Kumar         0.000000  0.000000     0.0     0.0  ...      0.0  0.00000   \n",
       "\n",
       "                    Topic17  Topic18   Topic19  Topic20  Topic21  Topic22  \\\n",
       "author                                                                      \n",
       "Albert Hsiao       0.148231      0.0  0.000000      0.0      0.0      0.0   \n",
       "Alex Cloninger     0.000000      0.0  0.122763      0.0      0.0      0.0   \n",
       "Angela Yu          0.000000      0.0  0.000000      0.0      0.0      0.0   \n",
       "Armin Schwartzman  0.242362      0.0  0.000000      0.0      0.0      0.0   \n",
       "Arun Kumar         0.000000      0.0  0.000000      0.0      0.0      0.0   \n",
       "\n",
       "                   Topic23  Topic24  \n",
       "author                               \n",
       "Albert Hsiao           0.0      0.0  \n",
       "Alex Cloninger         0.0      0.0  \n",
       "Angela Yu              0.0      0.0  \n",
       "Armin Schwartzman      0.0      0.0  \n",
       "Arun Kumar             0.0      0.0  \n",
       "\n",
       "[5 rows x 25 columns]"
      ]
     },
     "execution_count": 84,
     "metadata": {},
     "output_type": "execute_result"
    }
   ],
   "source": [
    "# filter the data by dropping value outside .？ percentile\n",
    "filtered = averaged.mask(averaged < 0.1, other=0)\n",
    "len(list(filtered.index))\n",
    "filtered.head()"
   ]
  },
  {
   "cell_type": "code",
   "execution_count": 85,
   "metadata": {},
   "outputs": [],
   "source": [
    "# get labels, sources, targets, values prepared for developing sankey diagram\n",
    "# read sankey diagram library for the purposes of them\n",
    "\n",
    "labels = filtered.index.to_list() #name of faculty & topics\n",
    "labels.extend(filtered.columns.to_list())\n",
    "\n",
    "sources = []\n",
    "targets = []\n",
    "values = [] # proportions\n",
    "index_counter = 0\n",
    "for index, row in filtered.iterrows():\n",
    "    for i, value in enumerate(row):\n",
    "        if value != 0:\n",
    "            sources.append(index_counter)\n",
    "            targets.append(50 + i)\n",
    "            values.append(value)\n",
    "    index_counter += 1"
   ]
  },
  {
   "cell_type": "code",
   "execution_count": 86,
   "metadata": {},
   "outputs": [
    {
     "data": {
      "text/plain": [
       "107"
      ]
     },
     "execution_count": 86,
     "metadata": {},
     "output_type": "execute_result"
    }
   ],
   "source": [
    "len(values)"
   ]
  },
  {
   "cell_type": "code",
   "execution_count": 87,
   "metadata": {},
   "outputs": [],
   "source": [
    "# split those average value that representing the relationships into ranks [1, 10]\n",
    "def split_into_ranks(array):\n",
    "    ranks = []\n",
    "    for value in array:\n",
    "        for i, percentage in enumerate(np.arange(.1, 1.1, .1)):\n",
    "            if value <= np.quantile(array, percentage):\n",
    "                ranks.append(i + 1)\n",
    "                break\n",
    "    return ranks\n",
    "\n",
    "import numpy as np\n",
    "values_array = np.array(values)\n",
    "values_final = split_into_ranks(values_array)"
   ]
  },
  {
   "cell_type": "code",
   "execution_count": null,
   "metadata": {},
   "outputs": [],
   "source": []
  },
  {
   "cell_type": "code",
   "execution_count": 88,
   "metadata": {},
   "outputs": [],
   "source": [
    "# print(len(values_final), len(values))\n",
    "# print(set(values_final))"
   ]
  },
  {
   "cell_type": "code",
   "execution_count": 89,
   "metadata": {},
   "outputs": [],
   "source": [
    "# get top words for topics\n",
    "import pickle\n",
    "model = pickle.load(open('models/agg_author_model_25_topics.pkl', 'rb'))\n",
    "dtm = pickle.load(open('models/agg_dtm.pkl', 'rb'))\n",
    "vectorizer = pickle.load(open('models/agg_vectorizer', 'rb'))\n",
    "\n",
    "names = vectorizer.get_feature_names()\n",
    "def display_topics_list(model, feature_names, no_top_words):\n",
    "    topic_list = []\n",
    "    for topic_idx, topic in enumerate(model.components_):\n",
    "        topic_list.append(\" \".join([feature_names[i] for i in topic.argsort()[:-no_top_words - 1:-1]]))\n",
    "    return topic_list\n",
    "link_labels = labels.copy()\n",
    "link_labels[50:] = display_topics_list(model, names, 10)"
   ]
  },
  {
   "cell_type": "code",
   "execution_count": 90,
   "metadata": {},
   "outputs": [
    {
     "data": {
      "application/vnd.plotly.v1+json": {
       "config": {
        "plotlyServerURL": "https://plot.ly"
       },
       "data": [
        {
         "link": {
          "source": [
           0,
           0,
           0,
           1,
           1,
           2,
           2,
           2,
           2,
           3,
           3,
           4,
           5,
           5,
           6,
           6,
           7,
           7,
           7,
           7,
           8,
           8,
           8,
           9,
           10,
           11,
           11,
           11,
           12,
           13,
           13,
           13,
           14,
           14,
           14,
           15,
           16,
           16,
           17,
           17,
           17,
           18,
           19,
           19,
           19,
           20,
           21,
           22,
           22,
           22,
           23,
           24,
           24,
           25,
           25,
           26,
           26,
           27,
           27,
           28,
           28,
           29,
           29,
           29,
           30,
           30,
           30,
           31,
           32,
           32,
           33,
           33,
           34,
           34,
           35,
           35,
           35,
           36,
           36,
           37,
           37,
           37,
           38,
           38,
           39,
           39,
           39,
           40,
           40,
           40,
           41,
           41,
           42,
           43,
           44,
           44,
           45,
           45,
           46,
           46,
           46,
           47,
           48,
           48,
           49,
           49,
           49
          ],
          "target": [
           60,
           66,
           67,
           51,
           69,
           55,
           56,
           57,
           64,
           56,
           67,
           60,
           51,
           63,
           54,
           69,
           51,
           63,
           64,
           67,
           54,
           57,
           66,
           69,
           57,
           55,
           60,
           69,
           52,
           57,
           58,
           74,
           51,
           52,
           60,
           62,
           51,
           54,
           55,
           57,
           67,
           60,
           60,
           62,
           68,
           52,
           68,
           59,
           68,
           74,
           51,
           53,
           56,
           53,
           69,
           68,
           69,
           52,
           70,
           60,
           70,
           51,
           59,
           70,
           52,
           54,
           57,
           74,
           59,
           60,
           52,
           60,
           53,
           73,
           50,
           64,
           66,
           59,
           60,
           52,
           60,
           69,
           57,
           67,
           58,
           64,
           65,
           51,
           59,
           60,
           57,
           61,
           63,
           57,
           59,
           66,
           51,
           63,
           54,
           58,
           60,
           63,
           54,
           63,
           59,
           60,
           68
          ],
          "value": [
           9,
           5,
           4,
           7,
           2,
           4,
           6,
           1,
           5,
           7,
           6,
           2,
           10,
           2,
           3,
           10,
           6,
           3,
           3,
           7,
           2,
           4,
           8,
           7,
           10,
           6,
           7,
           5,
           10,
           5,
           9,
           2,
           7,
           8,
           2,
           9,
           7,
           7,
           8,
           2,
           3,
           10,
           1,
           5,
           9,
           9,
           9,
           1,
           1,
           3,
           7,
           3,
           1,
           1,
           10,
           8,
           4,
           5,
           8,
           2,
           7,
           4,
           4,
           6,
           1,
           3,
           7,
           10,
           9,
           6,
           9,
           3,
           10,
           4,
           4,
           3,
           9,
           1,
           8,
           5,
           4,
           1,
           9,
           1,
           2,
           4,
           6,
           5,
           6,
           8,
           10,
           3,
           9,
           10,
           8,
           6,
           5,
           2,
           5,
           4,
           6,
           10,
           8,
           2,
           8,
           5,
           1
          ]
         },
         "node": {
          "color": "purple",
          "customdata": [
           "Albert Hsiao",
           "Alex Cloninger",
           "Angela Yu",
           "Armin Schwartzman",
           "Arun Kumar",
           "Arya Mazumdar",
           "Babak Salimi",
           "Barna Saha",
           "Benjamin Smarr",
           "Berk Ustun",
           "Bradley Voytek",
           "David Danks",
           "Dimitris Politis",
           "Eran Mukamel",
           "Ery, Arias-Castro ",
           "Frank Wuerthwein",
           "Gal Mishne",
           "George Sugihara",
           "Henrik Christensen",
           "Ilkay Altintas",
           "Jelena Bradic",
           "Jingbo Shang",
           "Julian McAuley",
           "Justin Eldridge",
           "Larry Smarr",
           "Lucila Ohno-Machado",
           "Margaret (Molly) Roberts",
           "Michael Holst",
           "Michael Pazzani",
           "Mikhail Belkin",
           "Mikio Aoi",
           "R. Stuart Geiger",
           "Rajesh Gupta",
           "Rayan Saab",
           "Robin Knight",
           "Ronghui (Lily) Xu",
           "Rose Yu",
           "Ruth Williams",
           "Shankar Subramaniam",
           "Shannon Ellis",
           "Tara Javidi",
           "Terry Sejnowski",
           "Tsu-Wei (Lily) Weng",
           "Vineet Bafna",
           "Virginia De Sa",
           "Yian Ma",
           "Yoav Freund",
           "Young-Han Kim",
           "Yusu Wang",
           "Zhiting Hu",
           "model pregnanc outcom data women trial diseas dose studi clinic",
           "problem algorithm graph distribut bound approxim consid test random number",
           "model estim method test sampl propos asymptot predict distribut data",
           "microbiom microbi associ sampl studi divers sequenc communiti human data",
           "data neuron method tree dimension graph structur topolog base imag",
           "dynam causal nonlinear model seri time predict forecast structur interact",
           "model size imag effect method human function observ map gaussian",
           "model activ neural cell genom method network data result dynam",
           "cell type neuron gene brain regulatori singl methyl specif function",
           "model learn time applic propos data build perform train network",
           "algorithm robot data approach propos learn model base perform method",
           "model network neural neuron brain scale spike comput activ function",
           "workflow comput data communiti develop applic scienc perform resourc servic",
           "usepackag code network bound scheme robust channel capac achiev problem",
           "edit distanc measur cluster result preprocess differ studi symptom time",
           "sequenc studi sampl microbiom human microbiota data research method diseas",
           "patient studi data diseas associ clinic compar cancer differ includ",
           "time algorithm data problem endotheli distanc imag flow rotat dynam",
           "data workflow model network learn text pattern scientif comput scale",
           "data model patient research method risk base dataset health result",
           "data model method mesh result process system protein base structur",
           "ϕλϕμ fontan footstep footprint foothold foot fooof fool food fomit",
           "apic clutter disregard extrema uncov unbalanc dendrit spatiotempor trial remot",
           "sampl microbiom communiti human data microbi studi differ microbiota method",
           "work data differ document task research librari discuss practic algorithm"
          ],
          "hovertemplate": "%{customdata} Total Flow: %{value}<extra></extra>",
          "label": [
           "Albert Hsiao",
           "Alex Cloninger",
           "Angela Yu",
           "Armin Schwartzman",
           "Arun Kumar",
           "Arya Mazumdar",
           "Babak Salimi",
           "Barna Saha",
           "Benjamin Smarr",
           "Berk Ustun",
           "Bradley Voytek",
           "David Danks",
           "Dimitris Politis",
           "Eran Mukamel",
           "Ery, Arias-Castro ",
           "Frank Wuerthwein",
           "Gal Mishne",
           "George Sugihara",
           "Henrik Christensen",
           "Ilkay Altintas",
           "Jelena Bradic",
           "Jingbo Shang",
           "Julian McAuley",
           "Justin Eldridge",
           "Larry Smarr",
           "Lucila Ohno-Machado",
           "Margaret (Molly) Roberts",
           "Michael Holst",
           "Michael Pazzani",
           "Mikhail Belkin",
           "Mikio Aoi",
           "R. Stuart Geiger",
           "Rajesh Gupta",
           "Rayan Saab",
           "Robin Knight",
           "Ronghui (Lily) Xu",
           "Rose Yu",
           "Ruth Williams",
           "Shankar Subramaniam",
           "Shannon Ellis",
           "Tara Javidi",
           "Terry Sejnowski",
           "Tsu-Wei (Lily) Weng",
           "Vineet Bafna",
           "Virginia De Sa",
           "Yian Ma",
           "Yoav Freund",
           "Young-Han Kim",
           "Yusu Wang",
           "Zhiting Hu",
           "Topic0",
           "Topic1",
           "Topic2",
           "Topic3",
           "Topic4",
           "Topic5",
           "Topic6",
           "Topic7",
           "Topic8",
           "Topic9",
           "Topic10",
           "Topic11",
           "Topic12",
           "Topic13",
           "Topic14",
           "Topic15",
           "Topic16",
           "Topic17",
           "Topic18",
           "Topic19",
           "Topic20",
           "Topic21",
           "Topic22",
           "Topic23",
           "Topic24"
          ],
          "line": {
           "color": "black",
           "width": 0.5
          },
          "pad": 15,
          "thickness": 20
         },
         "type": "sankey"
        }
       ],
       "layout": {
        "font": {
         "size": 10
        },
        "height": 2500,
        "paper_bgcolor": "LightSteelBlue",
        "template": {
         "data": {
          "bar": [
           {
            "error_x": {
             "color": "#2a3f5f"
            },
            "error_y": {
             "color": "#2a3f5f"
            },
            "marker": {
             "line": {
              "color": "#E5ECF6",
              "width": 0.5
             },
             "pattern": {
              "fillmode": "overlay",
              "size": 10,
              "solidity": 0.2
             }
            },
            "type": "bar"
           }
          ],
          "barpolar": [
           {
            "marker": {
             "line": {
              "color": "#E5ECF6",
              "width": 0.5
             },
             "pattern": {
              "fillmode": "overlay",
              "size": 10,
              "solidity": 0.2
             }
            },
            "type": "barpolar"
           }
          ],
          "carpet": [
           {
            "aaxis": {
             "endlinecolor": "#2a3f5f",
             "gridcolor": "white",
             "linecolor": "white",
             "minorgridcolor": "white",
             "startlinecolor": "#2a3f5f"
            },
            "baxis": {
             "endlinecolor": "#2a3f5f",
             "gridcolor": "white",
             "linecolor": "white",
             "minorgridcolor": "white",
             "startlinecolor": "#2a3f5f"
            },
            "type": "carpet"
           }
          ],
          "choropleth": [
           {
            "colorbar": {
             "outlinewidth": 0,
             "ticks": ""
            },
            "type": "choropleth"
           }
          ],
          "contour": [
           {
            "colorbar": {
             "outlinewidth": 0,
             "ticks": ""
            },
            "colorscale": [
             [
              0,
              "#0d0887"
             ],
             [
              0.1111111111111111,
              "#46039f"
             ],
             [
              0.2222222222222222,
              "#7201a8"
             ],
             [
              0.3333333333333333,
              "#9c179e"
             ],
             [
              0.4444444444444444,
              "#bd3786"
             ],
             [
              0.5555555555555556,
              "#d8576b"
             ],
             [
              0.6666666666666666,
              "#ed7953"
             ],
             [
              0.7777777777777778,
              "#fb9f3a"
             ],
             [
              0.8888888888888888,
              "#fdca26"
             ],
             [
              1,
              "#f0f921"
             ]
            ],
            "type": "contour"
           }
          ],
          "contourcarpet": [
           {
            "colorbar": {
             "outlinewidth": 0,
             "ticks": ""
            },
            "type": "contourcarpet"
           }
          ],
          "heatmap": [
           {
            "colorbar": {
             "outlinewidth": 0,
             "ticks": ""
            },
            "colorscale": [
             [
              0,
              "#0d0887"
             ],
             [
              0.1111111111111111,
              "#46039f"
             ],
             [
              0.2222222222222222,
              "#7201a8"
             ],
             [
              0.3333333333333333,
              "#9c179e"
             ],
             [
              0.4444444444444444,
              "#bd3786"
             ],
             [
              0.5555555555555556,
              "#d8576b"
             ],
             [
              0.6666666666666666,
              "#ed7953"
             ],
             [
              0.7777777777777778,
              "#fb9f3a"
             ],
             [
              0.8888888888888888,
              "#fdca26"
             ],
             [
              1,
              "#f0f921"
             ]
            ],
            "type": "heatmap"
           }
          ],
          "heatmapgl": [
           {
            "colorbar": {
             "outlinewidth": 0,
             "ticks": ""
            },
            "colorscale": [
             [
              0,
              "#0d0887"
             ],
             [
              0.1111111111111111,
              "#46039f"
             ],
             [
              0.2222222222222222,
              "#7201a8"
             ],
             [
              0.3333333333333333,
              "#9c179e"
             ],
             [
              0.4444444444444444,
              "#bd3786"
             ],
             [
              0.5555555555555556,
              "#d8576b"
             ],
             [
              0.6666666666666666,
              "#ed7953"
             ],
             [
              0.7777777777777778,
              "#fb9f3a"
             ],
             [
              0.8888888888888888,
              "#fdca26"
             ],
             [
              1,
              "#f0f921"
             ]
            ],
            "type": "heatmapgl"
           }
          ],
          "histogram": [
           {
            "marker": {
             "pattern": {
              "fillmode": "overlay",
              "size": 10,
              "solidity": 0.2
             }
            },
            "type": "histogram"
           }
          ],
          "histogram2d": [
           {
            "colorbar": {
             "outlinewidth": 0,
             "ticks": ""
            },
            "colorscale": [
             [
              0,
              "#0d0887"
             ],
             [
              0.1111111111111111,
              "#46039f"
             ],
             [
              0.2222222222222222,
              "#7201a8"
             ],
             [
              0.3333333333333333,
              "#9c179e"
             ],
             [
              0.4444444444444444,
              "#bd3786"
             ],
             [
              0.5555555555555556,
              "#d8576b"
             ],
             [
              0.6666666666666666,
              "#ed7953"
             ],
             [
              0.7777777777777778,
              "#fb9f3a"
             ],
             [
              0.8888888888888888,
              "#fdca26"
             ],
             [
              1,
              "#f0f921"
             ]
            ],
            "type": "histogram2d"
           }
          ],
          "histogram2dcontour": [
           {
            "colorbar": {
             "outlinewidth": 0,
             "ticks": ""
            },
            "colorscale": [
             [
              0,
              "#0d0887"
             ],
             [
              0.1111111111111111,
              "#46039f"
             ],
             [
              0.2222222222222222,
              "#7201a8"
             ],
             [
              0.3333333333333333,
              "#9c179e"
             ],
             [
              0.4444444444444444,
              "#bd3786"
             ],
             [
              0.5555555555555556,
              "#d8576b"
             ],
             [
              0.6666666666666666,
              "#ed7953"
             ],
             [
              0.7777777777777778,
              "#fb9f3a"
             ],
             [
              0.8888888888888888,
              "#fdca26"
             ],
             [
              1,
              "#f0f921"
             ]
            ],
            "type": "histogram2dcontour"
           }
          ],
          "mesh3d": [
           {
            "colorbar": {
             "outlinewidth": 0,
             "ticks": ""
            },
            "type": "mesh3d"
           }
          ],
          "parcoords": [
           {
            "line": {
             "colorbar": {
              "outlinewidth": 0,
              "ticks": ""
             }
            },
            "type": "parcoords"
           }
          ],
          "pie": [
           {
            "automargin": true,
            "type": "pie"
           }
          ],
          "scatter": [
           {
            "marker": {
             "colorbar": {
              "outlinewidth": 0,
              "ticks": ""
             }
            },
            "type": "scatter"
           }
          ],
          "scatter3d": [
           {
            "line": {
             "colorbar": {
              "outlinewidth": 0,
              "ticks": ""
             }
            },
            "marker": {
             "colorbar": {
              "outlinewidth": 0,
              "ticks": ""
             }
            },
            "type": "scatter3d"
           }
          ],
          "scattercarpet": [
           {
            "marker": {
             "colorbar": {
              "outlinewidth": 0,
              "ticks": ""
             }
            },
            "type": "scattercarpet"
           }
          ],
          "scattergeo": [
           {
            "marker": {
             "colorbar": {
              "outlinewidth": 0,
              "ticks": ""
             }
            },
            "type": "scattergeo"
           }
          ],
          "scattergl": [
           {
            "marker": {
             "colorbar": {
              "outlinewidth": 0,
              "ticks": ""
             }
            },
            "type": "scattergl"
           }
          ],
          "scattermapbox": [
           {
            "marker": {
             "colorbar": {
              "outlinewidth": 0,
              "ticks": ""
             }
            },
            "type": "scattermapbox"
           }
          ],
          "scatterpolar": [
           {
            "marker": {
             "colorbar": {
              "outlinewidth": 0,
              "ticks": ""
             }
            },
            "type": "scatterpolar"
           }
          ],
          "scatterpolargl": [
           {
            "marker": {
             "colorbar": {
              "outlinewidth": 0,
              "ticks": ""
             }
            },
            "type": "scatterpolargl"
           }
          ],
          "scatterternary": [
           {
            "marker": {
             "colorbar": {
              "outlinewidth": 0,
              "ticks": ""
             }
            },
            "type": "scatterternary"
           }
          ],
          "surface": [
           {
            "colorbar": {
             "outlinewidth": 0,
             "ticks": ""
            },
            "colorscale": [
             [
              0,
              "#0d0887"
             ],
             [
              0.1111111111111111,
              "#46039f"
             ],
             [
              0.2222222222222222,
              "#7201a8"
             ],
             [
              0.3333333333333333,
              "#9c179e"
             ],
             [
              0.4444444444444444,
              "#bd3786"
             ],
             [
              0.5555555555555556,
              "#d8576b"
             ],
             [
              0.6666666666666666,
              "#ed7953"
             ],
             [
              0.7777777777777778,
              "#fb9f3a"
             ],
             [
              0.8888888888888888,
              "#fdca26"
             ],
             [
              1,
              "#f0f921"
             ]
            ],
            "type": "surface"
           }
          ],
          "table": [
           {
            "cells": {
             "fill": {
              "color": "#EBF0F8"
             },
             "line": {
              "color": "white"
             }
            },
            "header": {
             "fill": {
              "color": "#C8D4E3"
             },
             "line": {
              "color": "white"
             }
            },
            "type": "table"
           }
          ]
         },
         "layout": {
          "annotationdefaults": {
           "arrowcolor": "#2a3f5f",
           "arrowhead": 0,
           "arrowwidth": 1
          },
          "autotypenumbers": "strict",
          "coloraxis": {
           "colorbar": {
            "outlinewidth": 0,
            "ticks": ""
           }
          },
          "colorscale": {
           "diverging": [
            [
             0,
             "#8e0152"
            ],
            [
             0.1,
             "#c51b7d"
            ],
            [
             0.2,
             "#de77ae"
            ],
            [
             0.3,
             "#f1b6da"
            ],
            [
             0.4,
             "#fde0ef"
            ],
            [
             0.5,
             "#f7f7f7"
            ],
            [
             0.6,
             "#e6f5d0"
            ],
            [
             0.7,
             "#b8e186"
            ],
            [
             0.8,
             "#7fbc41"
            ],
            [
             0.9,
             "#4d9221"
            ],
            [
             1,
             "#276419"
            ]
           ],
           "sequential": [
            [
             0,
             "#0d0887"
            ],
            [
             0.1111111111111111,
             "#46039f"
            ],
            [
             0.2222222222222222,
             "#7201a8"
            ],
            [
             0.3333333333333333,
             "#9c179e"
            ],
            [
             0.4444444444444444,
             "#bd3786"
            ],
            [
             0.5555555555555556,
             "#d8576b"
            ],
            [
             0.6666666666666666,
             "#ed7953"
            ],
            [
             0.7777777777777778,
             "#fb9f3a"
            ],
            [
             0.8888888888888888,
             "#fdca26"
            ],
            [
             1,
             "#f0f921"
            ]
           ],
           "sequentialminus": [
            [
             0,
             "#0d0887"
            ],
            [
             0.1111111111111111,
             "#46039f"
            ],
            [
             0.2222222222222222,
             "#7201a8"
            ],
            [
             0.3333333333333333,
             "#9c179e"
            ],
            [
             0.4444444444444444,
             "#bd3786"
            ],
            [
             0.5555555555555556,
             "#d8576b"
            ],
            [
             0.6666666666666666,
             "#ed7953"
            ],
            [
             0.7777777777777778,
             "#fb9f3a"
            ],
            [
             0.8888888888888888,
             "#fdca26"
            ],
            [
             1,
             "#f0f921"
            ]
           ]
          },
          "colorway": [
           "#636efa",
           "#EF553B",
           "#00cc96",
           "#ab63fa",
           "#FFA15A",
           "#19d3f3",
           "#FF6692",
           "#B6E880",
           "#FF97FF",
           "#FECB52"
          ],
          "font": {
           "color": "#2a3f5f"
          },
          "geo": {
           "bgcolor": "white",
           "lakecolor": "white",
           "landcolor": "#E5ECF6",
           "showlakes": true,
           "showland": true,
           "subunitcolor": "white"
          },
          "hoverlabel": {
           "align": "left"
          },
          "hovermode": "closest",
          "mapbox": {
           "style": "light"
          },
          "paper_bgcolor": "white",
          "plot_bgcolor": "#E5ECF6",
          "polar": {
           "angularaxis": {
            "gridcolor": "white",
            "linecolor": "white",
            "ticks": ""
           },
           "bgcolor": "#E5ECF6",
           "radialaxis": {
            "gridcolor": "white",
            "linecolor": "white",
            "ticks": ""
           }
          },
          "scene": {
           "xaxis": {
            "backgroundcolor": "#E5ECF6",
            "gridcolor": "white",
            "gridwidth": 2,
            "linecolor": "white",
            "showbackground": true,
            "ticks": "",
            "zerolinecolor": "white"
           },
           "yaxis": {
            "backgroundcolor": "#E5ECF6",
            "gridcolor": "white",
            "gridwidth": 2,
            "linecolor": "white",
            "showbackground": true,
            "ticks": "",
            "zerolinecolor": "white"
           },
           "zaxis": {
            "backgroundcolor": "#E5ECF6",
            "gridcolor": "white",
            "gridwidth": 2,
            "linecolor": "white",
            "showbackground": true,
            "ticks": "",
            "zerolinecolor": "white"
           }
          },
          "shapedefaults": {
           "line": {
            "color": "#2a3f5f"
           }
          },
          "ternary": {
           "aaxis": {
            "gridcolor": "white",
            "linecolor": "white",
            "ticks": ""
           },
           "baxis": {
            "gridcolor": "white",
            "linecolor": "white",
            "ticks": ""
           },
           "bgcolor": "#E5ECF6",
           "caxis": {
            "gridcolor": "white",
            "linecolor": "white",
            "ticks": ""
           }
          },
          "title": {
           "x": 0.05
          },
          "xaxis": {
           "automargin": true,
           "gridcolor": "white",
           "linecolor": "white",
           "ticks": "",
           "title": {
            "standoff": 15
           },
           "zerolinecolor": "white",
           "zerolinewidth": 2
          },
          "yaxis": {
           "automargin": true,
           "gridcolor": "white",
           "linecolor": "white",
           "ticks": "",
           "title": {
            "standoff": 15
           },
           "zerolinecolor": "white",
           "zerolinewidth": 2
          }
         }
        },
        "title": {
         "text": "Author Topic Connections"
        }
       }
      },
      "text/html": [
       "<div>                            <div id=\"dd3e0957-5518-4b0f-b3de-8e62382eb864\" class=\"plotly-graph-div\" style=\"height:2500px; width:100%;\"></div>            <script type=\"text/javascript\">                require([\"plotly\"], function(Plotly) {                    window.PLOTLYENV=window.PLOTLYENV || {};                                    if (document.getElementById(\"dd3e0957-5518-4b0f-b3de-8e62382eb864\")) {                    Plotly.newPlot(                        \"dd3e0957-5518-4b0f-b3de-8e62382eb864\",                        [{\"link\":{\"source\":[0,0,0,1,1,2,2,2,2,3,3,4,5,5,6,6,7,7,7,7,8,8,8,9,10,11,11,11,12,13,13,13,14,14,14,15,16,16,17,17,17,18,19,19,19,20,21,22,22,22,23,24,24,25,25,26,26,27,27,28,28,29,29,29,30,30,30,31,32,32,33,33,34,34,35,35,35,36,36,37,37,37,38,38,39,39,39,40,40,40,41,41,42,43,44,44,45,45,46,46,46,47,48,48,49,49,49],\"target\":[60,66,67,51,69,55,56,57,64,56,67,60,51,63,54,69,51,63,64,67,54,57,66,69,57,55,60,69,52,57,58,74,51,52,60,62,51,54,55,57,67,60,60,62,68,52,68,59,68,74,51,53,56,53,69,68,69,52,70,60,70,51,59,70,52,54,57,74,59,60,52,60,53,73,50,64,66,59,60,52,60,69,57,67,58,64,65,51,59,60,57,61,63,57,59,66,51,63,54,58,60,63,54,63,59,60,68],\"value\":[9,5,4,7,2,4,6,1,5,7,6,2,10,2,3,10,6,3,3,7,2,4,8,7,10,6,7,5,10,5,9,2,7,8,2,9,7,7,8,2,3,10,1,5,9,9,9,1,1,3,7,3,1,1,10,8,4,5,8,2,7,4,4,6,1,3,7,10,9,6,9,3,10,4,4,3,9,1,8,5,4,1,9,1,2,4,6,5,6,8,10,3,9,10,8,6,5,2,5,4,6,10,8,2,8,5,1]},\"node\":{\"color\":\"purple\",\"customdata\":[\"Albert Hsiao\",\"Alex Cloninger\",\"Angela Yu\",\"Armin Schwartzman\",\"Arun Kumar\",\"Arya Mazumdar\",\"Babak Salimi\",\"Barna Saha\",\"Benjamin Smarr\",\"Berk Ustun\",\"Bradley Voytek\",\"David Danks\",\"Dimitris Politis\",\"Eran Mukamel\",\"Ery, Arias-Castro \",\"Frank Wuerthwein\",\"Gal Mishne\",\"George Sugihara\",\"Henrik Christensen\",\"Ilkay Altintas\",\"Jelena Bradic\",\"Jingbo Shang\",\"Julian McAuley\",\"Justin Eldridge\",\"Larry Smarr\",\"Lucila Ohno-Machado\",\"Margaret (Molly) Roberts\",\"Michael Holst\",\"Michael Pazzani\",\"Mikhail Belkin\",\"Mikio Aoi\",\"R. Stuart Geiger\",\"Rajesh Gupta\",\"Rayan Saab\",\"Robin Knight\",\"Ronghui (Lily) Xu\",\"Rose Yu\",\"Ruth Williams\",\"Shankar Subramaniam\",\"Shannon Ellis\",\"Tara Javidi\",\"Terry Sejnowski\",\"Tsu-Wei (Lily) Weng\",\"Vineet Bafna\",\"Virginia De Sa\",\"Yian Ma\",\"Yoav Freund\",\"Young-Han Kim\",\"Yusu Wang\",\"Zhiting Hu\",\"model pregnanc outcom data women trial diseas dose studi clinic\",\"problem algorithm graph distribut bound approxim consid test random number\",\"model estim method test sampl propos asymptot predict distribut data\",\"microbiom microbi associ sampl studi divers sequenc communiti human data\",\"data neuron method tree dimension graph structur topolog base imag\",\"dynam causal nonlinear model seri time predict forecast structur interact\",\"model size imag effect method human function observ map gaussian\",\"model activ neural cell genom method network data result dynam\",\"cell type neuron gene brain regulatori singl methyl specif function\",\"model learn time applic propos data build perform train network\",\"algorithm robot data approach propos learn model base perform method\",\"model network neural neuron brain scale spike comput activ function\",\"workflow comput data communiti develop applic scienc perform resourc servic\",\"usepackag code network bound scheme robust channel capac achiev problem\",\"edit distanc measur cluster result preprocess differ studi symptom time\",\"sequenc studi sampl microbiom human microbiota data research method diseas\",\"patient studi data diseas associ clinic compar cancer differ includ\",\"time algorithm data problem endotheli distanc imag flow rotat dynam\",\"data workflow model network learn text pattern scientif comput scale\",\"data model patient research method risk base dataset health result\",\"data model method mesh result process system protein base structur\",\"\\u03d5\\u03bb\\u03d5\\u03bc fontan footstep footprint foothold foot fooof fool food fomit\",\"apic clutter disregard extrema uncov unbalanc dendrit spatiotempor trial remot\",\"sampl microbiom communiti human data microbi studi differ microbiota method\",\"work data differ document task research librari discuss practic algorithm\"],\"hovertemplate\":\"%{customdata} Total Flow: %{value}<extra></extra>\",\"label\":[\"Albert Hsiao\",\"Alex Cloninger\",\"Angela Yu\",\"Armin Schwartzman\",\"Arun Kumar\",\"Arya Mazumdar\",\"Babak Salimi\",\"Barna Saha\",\"Benjamin Smarr\",\"Berk Ustun\",\"Bradley Voytek\",\"David Danks\",\"Dimitris Politis\",\"Eran Mukamel\",\"Ery, Arias-Castro \",\"Frank Wuerthwein\",\"Gal Mishne\",\"George Sugihara\",\"Henrik Christensen\",\"Ilkay Altintas\",\"Jelena Bradic\",\"Jingbo Shang\",\"Julian McAuley\",\"Justin Eldridge\",\"Larry Smarr\",\"Lucila Ohno-Machado\",\"Margaret (Molly) Roberts\",\"Michael Holst\",\"Michael Pazzani\",\"Mikhail Belkin\",\"Mikio Aoi\",\"R. Stuart Geiger\",\"Rajesh Gupta\",\"Rayan Saab\",\"Robin Knight\",\"Ronghui (Lily) Xu\",\"Rose Yu\",\"Ruth Williams\",\"Shankar Subramaniam\",\"Shannon Ellis\",\"Tara Javidi\",\"Terry Sejnowski\",\"Tsu-Wei (Lily) Weng\",\"Vineet Bafna\",\"Virginia De Sa\",\"Yian Ma\",\"Yoav Freund\",\"Young-Han Kim\",\"Yusu Wang\",\"Zhiting Hu\",\"Topic0\",\"Topic1\",\"Topic2\",\"Topic3\",\"Topic4\",\"Topic5\",\"Topic6\",\"Topic7\",\"Topic8\",\"Topic9\",\"Topic10\",\"Topic11\",\"Topic12\",\"Topic13\",\"Topic14\",\"Topic15\",\"Topic16\",\"Topic17\",\"Topic18\",\"Topic19\",\"Topic20\",\"Topic21\",\"Topic22\",\"Topic23\",\"Topic24\"],\"line\":{\"color\":\"black\",\"width\":0.5},\"pad\":15,\"thickness\":20},\"type\":\"sankey\"}],                        {\"font\":{\"size\":10},\"height\":2500,\"paper_bgcolor\":\"LightSteelBlue\",\"template\":{\"data\":{\"bar\":[{\"error_x\":{\"color\":\"#2a3f5f\"},\"error_y\":{\"color\":\"#2a3f5f\"},\"marker\":{\"line\":{\"color\":\"#E5ECF6\",\"width\":0.5},\"pattern\":{\"fillmode\":\"overlay\",\"size\":10,\"solidity\":0.2}},\"type\":\"bar\"}],\"barpolar\":[{\"marker\":{\"line\":{\"color\":\"#E5ECF6\",\"width\":0.5},\"pattern\":{\"fillmode\":\"overlay\",\"size\":10,\"solidity\":0.2}},\"type\":\"barpolar\"}],\"carpet\":[{\"aaxis\":{\"endlinecolor\":\"#2a3f5f\",\"gridcolor\":\"white\",\"linecolor\":\"white\",\"minorgridcolor\":\"white\",\"startlinecolor\":\"#2a3f5f\"},\"baxis\":{\"endlinecolor\":\"#2a3f5f\",\"gridcolor\":\"white\",\"linecolor\":\"white\",\"minorgridcolor\":\"white\",\"startlinecolor\":\"#2a3f5f\"},\"type\":\"carpet\"}],\"choropleth\":[{\"colorbar\":{\"outlinewidth\":0,\"ticks\":\"\"},\"type\":\"choropleth\"}],\"contour\":[{\"colorbar\":{\"outlinewidth\":0,\"ticks\":\"\"},\"colorscale\":[[0.0,\"#0d0887\"],[0.1111111111111111,\"#46039f\"],[0.2222222222222222,\"#7201a8\"],[0.3333333333333333,\"#9c179e\"],[0.4444444444444444,\"#bd3786\"],[0.5555555555555556,\"#d8576b\"],[0.6666666666666666,\"#ed7953\"],[0.7777777777777778,\"#fb9f3a\"],[0.8888888888888888,\"#fdca26\"],[1.0,\"#f0f921\"]],\"type\":\"contour\"}],\"contourcarpet\":[{\"colorbar\":{\"outlinewidth\":0,\"ticks\":\"\"},\"type\":\"contourcarpet\"}],\"heatmap\":[{\"colorbar\":{\"outlinewidth\":0,\"ticks\":\"\"},\"colorscale\":[[0.0,\"#0d0887\"],[0.1111111111111111,\"#46039f\"],[0.2222222222222222,\"#7201a8\"],[0.3333333333333333,\"#9c179e\"],[0.4444444444444444,\"#bd3786\"],[0.5555555555555556,\"#d8576b\"],[0.6666666666666666,\"#ed7953\"],[0.7777777777777778,\"#fb9f3a\"],[0.8888888888888888,\"#fdca26\"],[1.0,\"#f0f921\"]],\"type\":\"heatmap\"}],\"heatmapgl\":[{\"colorbar\":{\"outlinewidth\":0,\"ticks\":\"\"},\"colorscale\":[[0.0,\"#0d0887\"],[0.1111111111111111,\"#46039f\"],[0.2222222222222222,\"#7201a8\"],[0.3333333333333333,\"#9c179e\"],[0.4444444444444444,\"#bd3786\"],[0.5555555555555556,\"#d8576b\"],[0.6666666666666666,\"#ed7953\"],[0.7777777777777778,\"#fb9f3a\"],[0.8888888888888888,\"#fdca26\"],[1.0,\"#f0f921\"]],\"type\":\"heatmapgl\"}],\"histogram\":[{\"marker\":{\"pattern\":{\"fillmode\":\"overlay\",\"size\":10,\"solidity\":0.2}},\"type\":\"histogram\"}],\"histogram2d\":[{\"colorbar\":{\"outlinewidth\":0,\"ticks\":\"\"},\"colorscale\":[[0.0,\"#0d0887\"],[0.1111111111111111,\"#46039f\"],[0.2222222222222222,\"#7201a8\"],[0.3333333333333333,\"#9c179e\"],[0.4444444444444444,\"#bd3786\"],[0.5555555555555556,\"#d8576b\"],[0.6666666666666666,\"#ed7953\"],[0.7777777777777778,\"#fb9f3a\"],[0.8888888888888888,\"#fdca26\"],[1.0,\"#f0f921\"]],\"type\":\"histogram2d\"}],\"histogram2dcontour\":[{\"colorbar\":{\"outlinewidth\":0,\"ticks\":\"\"},\"colorscale\":[[0.0,\"#0d0887\"],[0.1111111111111111,\"#46039f\"],[0.2222222222222222,\"#7201a8\"],[0.3333333333333333,\"#9c179e\"],[0.4444444444444444,\"#bd3786\"],[0.5555555555555556,\"#d8576b\"],[0.6666666666666666,\"#ed7953\"],[0.7777777777777778,\"#fb9f3a\"],[0.8888888888888888,\"#fdca26\"],[1.0,\"#f0f921\"]],\"type\":\"histogram2dcontour\"}],\"mesh3d\":[{\"colorbar\":{\"outlinewidth\":0,\"ticks\":\"\"},\"type\":\"mesh3d\"}],\"parcoords\":[{\"line\":{\"colorbar\":{\"outlinewidth\":0,\"ticks\":\"\"}},\"type\":\"parcoords\"}],\"pie\":[{\"automargin\":true,\"type\":\"pie\"}],\"scatter\":[{\"marker\":{\"colorbar\":{\"outlinewidth\":0,\"ticks\":\"\"}},\"type\":\"scatter\"}],\"scatter3d\":[{\"line\":{\"colorbar\":{\"outlinewidth\":0,\"ticks\":\"\"}},\"marker\":{\"colorbar\":{\"outlinewidth\":0,\"ticks\":\"\"}},\"type\":\"scatter3d\"}],\"scattercarpet\":[{\"marker\":{\"colorbar\":{\"outlinewidth\":0,\"ticks\":\"\"}},\"type\":\"scattercarpet\"}],\"scattergeo\":[{\"marker\":{\"colorbar\":{\"outlinewidth\":0,\"ticks\":\"\"}},\"type\":\"scattergeo\"}],\"scattergl\":[{\"marker\":{\"colorbar\":{\"outlinewidth\":0,\"ticks\":\"\"}},\"type\":\"scattergl\"}],\"scattermapbox\":[{\"marker\":{\"colorbar\":{\"outlinewidth\":0,\"ticks\":\"\"}},\"type\":\"scattermapbox\"}],\"scatterpolar\":[{\"marker\":{\"colorbar\":{\"outlinewidth\":0,\"ticks\":\"\"}},\"type\":\"scatterpolar\"}],\"scatterpolargl\":[{\"marker\":{\"colorbar\":{\"outlinewidth\":0,\"ticks\":\"\"}},\"type\":\"scatterpolargl\"}],\"scatterternary\":[{\"marker\":{\"colorbar\":{\"outlinewidth\":0,\"ticks\":\"\"}},\"type\":\"scatterternary\"}],\"surface\":[{\"colorbar\":{\"outlinewidth\":0,\"ticks\":\"\"},\"colorscale\":[[0.0,\"#0d0887\"],[0.1111111111111111,\"#46039f\"],[0.2222222222222222,\"#7201a8\"],[0.3333333333333333,\"#9c179e\"],[0.4444444444444444,\"#bd3786\"],[0.5555555555555556,\"#d8576b\"],[0.6666666666666666,\"#ed7953\"],[0.7777777777777778,\"#fb9f3a\"],[0.8888888888888888,\"#fdca26\"],[1.0,\"#f0f921\"]],\"type\":\"surface\"}],\"table\":[{\"cells\":{\"fill\":{\"color\":\"#EBF0F8\"},\"line\":{\"color\":\"white\"}},\"header\":{\"fill\":{\"color\":\"#C8D4E3\"},\"line\":{\"color\":\"white\"}},\"type\":\"table\"}]},\"layout\":{\"annotationdefaults\":{\"arrowcolor\":\"#2a3f5f\",\"arrowhead\":0,\"arrowwidth\":1},\"autotypenumbers\":\"strict\",\"coloraxis\":{\"colorbar\":{\"outlinewidth\":0,\"ticks\":\"\"}},\"colorscale\":{\"diverging\":[[0,\"#8e0152\"],[0.1,\"#c51b7d\"],[0.2,\"#de77ae\"],[0.3,\"#f1b6da\"],[0.4,\"#fde0ef\"],[0.5,\"#f7f7f7\"],[0.6,\"#e6f5d0\"],[0.7,\"#b8e186\"],[0.8,\"#7fbc41\"],[0.9,\"#4d9221\"],[1,\"#276419\"]],\"sequential\":[[0.0,\"#0d0887\"],[0.1111111111111111,\"#46039f\"],[0.2222222222222222,\"#7201a8\"],[0.3333333333333333,\"#9c179e\"],[0.4444444444444444,\"#bd3786\"],[0.5555555555555556,\"#d8576b\"],[0.6666666666666666,\"#ed7953\"],[0.7777777777777778,\"#fb9f3a\"],[0.8888888888888888,\"#fdca26\"],[1.0,\"#f0f921\"]],\"sequentialminus\":[[0.0,\"#0d0887\"],[0.1111111111111111,\"#46039f\"],[0.2222222222222222,\"#7201a8\"],[0.3333333333333333,\"#9c179e\"],[0.4444444444444444,\"#bd3786\"],[0.5555555555555556,\"#d8576b\"],[0.6666666666666666,\"#ed7953\"],[0.7777777777777778,\"#fb9f3a\"],[0.8888888888888888,\"#fdca26\"],[1.0,\"#f0f921\"]]},\"colorway\":[\"#636efa\",\"#EF553B\",\"#00cc96\",\"#ab63fa\",\"#FFA15A\",\"#19d3f3\",\"#FF6692\",\"#B6E880\",\"#FF97FF\",\"#FECB52\"],\"font\":{\"color\":\"#2a3f5f\"},\"geo\":{\"bgcolor\":\"white\",\"lakecolor\":\"white\",\"landcolor\":\"#E5ECF6\",\"showlakes\":true,\"showland\":true,\"subunitcolor\":\"white\"},\"hoverlabel\":{\"align\":\"left\"},\"hovermode\":\"closest\",\"mapbox\":{\"style\":\"light\"},\"paper_bgcolor\":\"white\",\"plot_bgcolor\":\"#E5ECF6\",\"polar\":{\"angularaxis\":{\"gridcolor\":\"white\",\"linecolor\":\"white\",\"ticks\":\"\"},\"bgcolor\":\"#E5ECF6\",\"radialaxis\":{\"gridcolor\":\"white\",\"linecolor\":\"white\",\"ticks\":\"\"}},\"scene\":{\"xaxis\":{\"backgroundcolor\":\"#E5ECF6\",\"gridcolor\":\"white\",\"gridwidth\":2,\"linecolor\":\"white\",\"showbackground\":true,\"ticks\":\"\",\"zerolinecolor\":\"white\"},\"yaxis\":{\"backgroundcolor\":\"#E5ECF6\",\"gridcolor\":\"white\",\"gridwidth\":2,\"linecolor\":\"white\",\"showbackground\":true,\"ticks\":\"\",\"zerolinecolor\":\"white\"},\"zaxis\":{\"backgroundcolor\":\"#E5ECF6\",\"gridcolor\":\"white\",\"gridwidth\":2,\"linecolor\":\"white\",\"showbackground\":true,\"ticks\":\"\",\"zerolinecolor\":\"white\"}},\"shapedefaults\":{\"line\":{\"color\":\"#2a3f5f\"}},\"ternary\":{\"aaxis\":{\"gridcolor\":\"white\",\"linecolor\":\"white\",\"ticks\":\"\"},\"baxis\":{\"gridcolor\":\"white\",\"linecolor\":\"white\",\"ticks\":\"\"},\"bgcolor\":\"#E5ECF6\",\"caxis\":{\"gridcolor\":\"white\",\"linecolor\":\"white\",\"ticks\":\"\"}},\"title\":{\"x\":0.05},\"xaxis\":{\"automargin\":true,\"gridcolor\":\"white\",\"linecolor\":\"white\",\"ticks\":\"\",\"title\":{\"standoff\":15},\"zerolinecolor\":\"white\",\"zerolinewidth\":2},\"yaxis\":{\"automargin\":true,\"gridcolor\":\"white\",\"linecolor\":\"white\",\"ticks\":\"\",\"title\":{\"standoff\":15},\"zerolinecolor\":\"white\",\"zerolinewidth\":2}}},\"title\":{\"text\":\"Author Topic Connections\"}},                        {\"responsive\": true}                    ).then(function(){\n",
       "                            \n",
       "var gd = document.getElementById('dd3e0957-5518-4b0f-b3de-8e62382eb864');\n",
       "var x = new MutationObserver(function (mutations, observer) {{\n",
       "        var display = window.getComputedStyle(gd).display;\n",
       "        if (!display || display === 'none') {{\n",
       "            console.log([gd, 'removed!']);\n",
       "            Plotly.purge(gd);\n",
       "            observer.disconnect();\n",
       "        }}\n",
       "}});\n",
       "\n",
       "// Listen for the removal of the full notebook cells\n",
       "var notebookContainer = gd.closest('#notebook-container');\n",
       "if (notebookContainer) {{\n",
       "    x.observe(notebookContainer, {childList: true});\n",
       "}}\n",
       "\n",
       "// Listen for the clearing of the current output cell\n",
       "var outputEl = gd.closest('.output');\n",
       "if (outputEl) {{\n",
       "    x.observe(outputEl, {childList: true});\n",
       "}}\n",
       "\n",
       "                        })                };                });            </script>        </div>"
      ]
     },
     "metadata": {},
     "output_type": "display_data"
    }
   ],
   "source": [
    "# author topic connections sankey diagram for 50 topics model\n",
    "import plotly.graph_objects as go\n",
    "\n",
    "fig = go.Figure(data=[go.Sankey(\n",
    "    node = dict(\n",
    "      pad = 15,\n",
    "      thickness = 20,\n",
    "      line = dict(color = \"black\", width = 0.5),\n",
    "      label = labels, # flow name\n",
    "      color = 'purple',\n",
    "      customdata = link_labels,\n",
    "      hovertemplate='%{customdata} Total Flow: %{value}<extra></extra>'\n",
    "    ),\n",
    "    link = dict(\n",
    "      source = sources, # indices correspond to labels, eg A1, A2, A1, B1, ...\n",
    "      target = targets, # targets nodes\n",
    "      value = values_final # flow volumn \n",
    "  ))])\n",
    "\n",
    "fig.update_layout(title_text=\"Author Topic Connections\", font_size=10, height=2500, paper_bgcolor=\"LightSteelBlue\")\n",
    "fig.show()\n",
    "# fig.write_html(\"visualization/Author_Topic_Connections.html\")"
   ]
  },
  {
   "cell_type": "code",
   "execution_count": null,
   "metadata": {},
   "outputs": [],
   "source": []
  },
  {
   "cell_type": "code",
   "execution_count": null,
   "metadata": {},
   "outputs": [],
   "source": []
  }
 ],
 "metadata": {
  "interpreter": {
   "hash": "aee8b7b246df8f9039afb4144a1f6fd8d2ca17a180786b69acc140d282b71a49"
  },
  "kernelspec": {
   "display_name": "Python 3 (ipykernel)",
   "language": "python",
   "name": "python3"
  },
  "language_info": {
   "codemirror_mode": {
    "name": "ipython",
    "version": 3
   },
   "file_extension": ".py",
   "mimetype": "text/x-python",
   "name": "python",
   "nbconvert_exporter": "python",
   "pygments_lexer": "ipython3",
   "version": "3.8.8"
  }
 },
 "nbformat": 4,
 "nbformat_minor": 2
}
